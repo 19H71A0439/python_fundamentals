{
  "nbformat": 4,
  "nbformat_minor": 0,
  "metadata": {
    "kernelspec": {
      "display_name": "Python 3",
      "language": "python",
      "name": "python3"
    },
    "language_info": {
      "codemirror_mode": {
        "name": "ipython",
        "version": 3
      },
      "file_extension": ".py",
      "mimetype": "text/x-python",
      "name": "python",
      "nbconvert_exporter": "python",
      "pygments_lexer": "ipython3",
      "version": "3.7.6"
    },
    "colab": {
      "name": "python_fundamentals_part1_dswh.ipynb",
      "provenance": [],
      "include_colab_link": true
    }
  },
  "cells": [
    {
      "cell_type": "markdown",
      "metadata": {
        "id": "view-in-github",
        "colab_type": "text"
      },
      "source": [
        "<a href=\"https://colab.research.google.com/github/datasciencewithharshit/python_fundamentals/blob/master/python_fundamentals_part1_dswh.ipynb\" target=\"_parent\"><img src=\"https://colab.research.google.com/assets/colab-badge.svg\" alt=\"Open In Colab\"/></a>"
      ]
    },
    {
      "cell_type": "code",
      "metadata": {
        "id": "pVLTkjjjqzV9",
        "colab_type": "code",
        "outputId": "e8c3b5c9-4077-4bcc-a256-549863a09d84",
        "colab": {}
      },
      "source": [
        "print(\"Hello World!\")"
      ],
      "execution_count": 0,
      "outputs": [
        {
          "output_type": "stream",
          "text": [
            "Hello World!\n"
          ],
          "name": "stdout"
        }
      ]
    },
    {
      "cell_type": "code",
      "metadata": {
        "id": "VakgWonfqzWC",
        "colab_type": "code",
        "outputId": "fa7e92ea-1b59-40e1-9460-c185aa9f8432",
        "colab": {}
      },
      "source": [
        "a = 5\n",
        "print(a)"
      ],
      "execution_count": 0,
      "outputs": [
        {
          "output_type": "stream",
          "text": [
            "5\n"
          ],
          "name": "stdout"
        }
      ]
    },
    {
      "cell_type": "code",
      "metadata": {
        "id": "BmKATzZqqzWH",
        "colab_type": "code",
        "outputId": "c6f767c3-9004-404c-bb33-593ca952f8eb",
        "colab": {}
      },
      "source": [
        "if a == 5:\n",
        "    print(\"a equals 5\")"
      ],
      "execution_count": 0,
      "outputs": [
        {
          "output_type": "stream",
          "text": [
            "a equals 5\n"
          ],
          "name": "stdout"
        }
      ]
    },
    {
      "cell_type": "code",
      "metadata": {
        "id": "0sFciTRgqzWM",
        "colab_type": "code",
        "outputId": "2babd0b9-633a-4a2d-826b-a39825062038",
        "colab": {}
      },
      "source": [
        "# Data Types and Variables\n",
        "\n",
        "# integers\n",
        "n_int = 5\n",
        "print(n_int)\n"
      ],
      "execution_count": 0,
      "outputs": [
        {
          "output_type": "stream",
          "text": [
            "5\n",
            "10.0\n",
            "Hello\n"
          ],
          "name": "stdout"
        }
      ]
    },
    {
      "cell_type": "code",
      "metadata": {
        "id": "eeM-Y_pMqzWQ",
        "colab_type": "code",
        "outputId": "16ff0f9f-7846-4c53-acf8-9be0c0d3d0dd",
        "colab": {}
      },
      "source": [
        "# float numbers\n",
        "n_float = 10.0\n",
        "print(n_float)\n"
      ],
      "execution_count": 0,
      "outputs": [
        {
          "output_type": "stream",
          "text": [
            "10.0\n"
          ],
          "name": "stdout"
        }
      ]
    },
    {
      "cell_type": "code",
      "metadata": {
        "id": "5DB-P3GaqzWU",
        "colab_type": "code",
        "outputId": "91d695fe-3649-49d8-bd08-04e020f8176f",
        "colab": {}
      },
      "source": [
        "# strings with single\n",
        "\n",
        "n_string = 'This is a string with single quotes!!'\n",
        "print(n_string)\n"
      ],
      "execution_count": 0,
      "outputs": [
        {
          "output_type": "stream",
          "text": [
            "Hello\n"
          ],
          "name": "stdout"
        }
      ]
    },
    {
      "cell_type": "code",
      "metadata": {
        "id": "0ef1FZwDqzWa",
        "colab_type": "code",
        "colab": {}
      },
      "source": [
        "# strings with double quotes.\n",
        "n_string_double = \"It's convenient to use strings with double quotes\"\n",
        "print(n_string)\n"
      ],
      "execution_count": 0,
      "outputs": []
    },
    {
      "cell_type": "code",
      "metadata": {
        "id": "nDI7GvlBqzWe",
        "colab_type": "code",
        "colab": {}
      },
      "source": [
        "# operations on different data types\n",
        "\n",
        "n1 = 5\n",
        "n2 = 7.5\n",
        "n3 = n1+n2"
      ],
      "execution_count": 0,
      "outputs": []
    },
    {
      "cell_type": "code",
      "metadata": {
        "id": "w58lHY_kqzWj",
        "colab_type": "code",
        "outputId": "a2d685f7-b414-4082-90b8-093688462227",
        "colab": {}
      },
      "source": [
        "nstr = \"abc\"\n",
        "n4 = n3 + nstr\n",
        "n4"
      ],
      "execution_count": 0,
      "outputs": [
        {
          "output_type": "error",
          "ename": "TypeError",
          "evalue": "unsupported operand type(s) for +: 'float' and 'str'",
          "traceback": [
            "\u001b[0;31m---------------------------------------------------------------------------\u001b[0m",
            "\u001b[0;31mTypeError\u001b[0m                                 Traceback (most recent call last)",
            "\u001b[0;32m<ipython-input-13-7e275a28f0c3>\u001b[0m in \u001b[0;36m<module>\u001b[0;34m\u001b[0m\n\u001b[1;32m      1\u001b[0m \u001b[0mnstr\u001b[0m \u001b[0;34m=\u001b[0m \u001b[0;34m\"abc\"\u001b[0m\u001b[0;34m\u001b[0m\u001b[0;34m\u001b[0m\u001b[0m\n\u001b[0;32m----> 2\u001b[0;31m \u001b[0mn4\u001b[0m \u001b[0;34m=\u001b[0m \u001b[0mn3\u001b[0m \u001b[0;34m+\u001b[0m \u001b[0mnstr\u001b[0m\u001b[0;34m\u001b[0m\u001b[0;34m\u001b[0m\u001b[0m\n\u001b[0m\u001b[1;32m      3\u001b[0m \u001b[0mn4\u001b[0m\u001b[0;34m\u001b[0m\u001b[0;34m\u001b[0m\u001b[0m\n",
            "\u001b[0;31mTypeError\u001b[0m: unsupported operand type(s) for +: 'float' and 'str'"
          ]
        }
      ]
    },
    {
      "cell_type": "code",
      "metadata": {
        "id": "eiu7n1alqzWp",
        "colab_type": "code",
        "outputId": "5a9acb22-cb17-4b7f-98f5-23332f7fe074",
        "colab": {}
      },
      "source": [
        "n1, n2 = n2, n1\n",
        "n1"
      ],
      "execution_count": 0,
      "outputs": [
        {
          "output_type": "execute_result",
          "data": {
            "text/plain": [
              "7.5"
            ]
          },
          "metadata": {
            "tags": []
          },
          "execution_count": 14
        }
      ]
    },
    {
      "cell_type": "code",
      "metadata": {
        "id": "HEvcb2g-qzWv",
        "colab_type": "code",
        "outputId": "87e9d0f2-7f19-494c-c03e-4e78f533c452",
        "colab": {}
      },
      "source": [
        "# string operators\n",
        "print('tom is good looking')\n",
        "print('tom's good looking')"
      ],
      "execution_count": 0,
      "outputs": [
        {
          "output_type": "error",
          "ename": "SyntaxError",
          "evalue": "invalid syntax (<ipython-input-19-e33e47a95475>, line 3)",
          "traceback": [
            "\u001b[0;36m  File \u001b[0;32m\"<ipython-input-19-e33e47a95475>\"\u001b[0;36m, line \u001b[0;32m3\u001b[0m\n\u001b[0;31m    print('tom's good looking')\u001b[0m\n\u001b[0m               ^\u001b[0m\n\u001b[0;31mSyntaxError\u001b[0m\u001b[0;31m:\u001b[0m invalid syntax\n"
          ]
        }
      ]
    },
    {
      "cell_type": "code",
      "metadata": {
        "id": "n5kJi4BAqzW2",
        "colab_type": "code",
        "outputId": "071b3f98-9ad3-4bb4-9b2d-60ec3a456736",
        "colab": {}
      },
      "source": [
        "print(\"tom's good looking\")"
      ],
      "execution_count": 0,
      "outputs": [
        {
          "output_type": "stream",
          "text": [
            "tom's good looking\n"
          ],
          "name": "stdout"
        }
      ]
    },
    {
      "cell_type": "code",
      "metadata": {
        "id": "9B7qa0y_qzW6",
        "colab_type": "code",
        "outputId": "36292d3d-dc62-4e4e-cf49-9315b95a327a",
        "colab": {}
      },
      "source": [
        "# string formatting\n",
        "name = \"Tom\"\n",
        "print(\"%s is good looking\" %name)"
      ],
      "execution_count": 0,
      "outputs": [
        {
          "output_type": "stream",
          "text": [
            "Tom is good looking\n"
          ],
          "name": "stdout"
        }
      ]
    },
    {
      "cell_type": "code",
      "metadata": {
        "id": "rlN_CfX5qzW9",
        "colab_type": "code",
        "outputId": "4de1947c-7d1d-4a75-9bf8-9b843bab7b45",
        "colab": {}
      },
      "source": [
        "# length of the string\n",
        "print(len(name))"
      ],
      "execution_count": 0,
      "outputs": [
        {
          "output_type": "stream",
          "text": [
            "3\n"
          ],
          "name": "stdout"
        }
      ]
    },
    {
      "cell_type": "code",
      "metadata": {
        "id": "oIuDvLt9qzXB",
        "colab_type": "code",
        "outputId": "5d19d50a-8622-45be-dd70-b675b983a600",
        "colab": {}
      },
      "source": [
        "myString = \"Data Science\"\n",
        "print(myString.index(\"e\"))"
      ],
      "execution_count": 0,
      "outputs": [
        {
          "output_type": "stream",
          "text": [
            "8\n"
          ],
          "name": "stdout"
        }
      ]
    },
    {
      "cell_type": "code",
      "metadata": {
        "id": "bNOg3VVtqzXG",
        "colab_type": "code",
        "outputId": "41269d86-bb81-4543-93d7-bc1419e6fc8d",
        "colab": {}
      },
      "source": [
        "print(myString.count(\"S\"))"
      ],
      "execution_count": 0,
      "outputs": [
        {
          "output_type": "stream",
          "text": [
            "1\n"
          ],
          "name": "stdout"
        }
      ]
    },
    {
      "cell_type": "code",
      "metadata": {
        "id": "_qaveRRsqzXL",
        "colab_type": "code",
        "outputId": "d396f93b-ae3e-4e7a-d52a-4caab3898fe9",
        "colab": {}
      },
      "source": [
        "print(myString[2:8:2])"
      ],
      "execution_count": 0,
      "outputs": [
        {
          "output_type": "stream",
          "text": [
            "t c\n"
          ],
          "name": "stdout"
        }
      ]
    },
    {
      "cell_type": "code",
      "metadata": {
        "id": "8a0a3hGDqzXP",
        "colab_type": "code",
        "outputId": "e0fc9796-1b28-4506-b714-41fadc478bcc",
        "colab": {}
      },
      "source": [
        "print(myString[:])"
      ],
      "execution_count": 0,
      "outputs": [
        {
          "output_type": "stream",
          "text": [
            "Data Science\n"
          ],
          "name": "stdout"
        }
      ]
    },
    {
      "cell_type": "code",
      "metadata": {
        "id": "yUI2MTUVqzXT",
        "colab_type": "code",
        "outputId": "eea04dc8-da65-4cda-cf03-e052d43139cc",
        "colab": {}
      },
      "source": [
        "# upper and lower case\n",
        "print(myString.upper())\n",
        "print(myString.lower())\n",
        "print(myString.capitalize())"
      ],
      "execution_count": 0,
      "outputs": [
        {
          "output_type": "stream",
          "text": [
            "DATA SCIENCE\n",
            "Data science\n"
          ],
          "name": "stdout"
        }
      ]
    },
    {
      "cell_type": "code",
      "metadata": {
        "id": "wdL8b7WUqzXW",
        "colab_type": "code",
        "colab": {}
      },
      "source": [
        ""
      ],
      "execution_count": 0,
      "outputs": []
    },
    {
      "cell_type": "code",
      "metadata": {
        "id": "hPJcQB6tqzXa",
        "colab_type": "code",
        "colab": {}
      },
      "source": [
        ""
      ],
      "execution_count": 0,
      "outputs": []
    },
    {
      "cell_type": "code",
      "metadata": {
        "id": "PF6atsS5qzXe",
        "colab_type": "code",
        "colab": {}
      },
      "source": [
        "# basic operators\n",
        "# arithmetic -> + - / *\n",
        "# modulo\n",
        "# power\n",
        "# operators with strings\n"
      ],
      "execution_count": 0,
      "outputs": []
    },
    {
      "cell_type": "code",
      "metadata": {
        "id": "9enVEYtlqzXi",
        "colab_type": "code",
        "outputId": "9226e9a7-a3a8-4d21-f2c6-d5da366a1339",
        "colab": {}
      },
      "source": [
        "# DMAS\n",
        "result = 3 + 4.0 / 2 * 5\n",
        "print(result)"
      ],
      "execution_count": 0,
      "outputs": [
        {
          "output_type": "stream",
          "text": [
            "13.0\n"
          ],
          "name": "stdout"
        }
      ]
    },
    {
      "cell_type": "code",
      "metadata": {
        "id": "1lk7rH9bqzXl",
        "colab_type": "code",
        "outputId": "8d87c022-49a6-49d2-f17c-7fa0e66497a5",
        "colab": {}
      },
      "source": [
        "# modulo operator to calculate the remainder\n",
        "remainder = 17%10\n",
        "print(remainder)\n"
      ],
      "execution_count": 0,
      "outputs": [
        {
          "output_type": "stream",
          "text": [
            "7\n"
          ],
          "name": "stdout"
        }
      ]
    },
    {
      "cell_type": "code",
      "metadata": {
        "id": "D3A7CRnRqzXp",
        "colab_type": "code",
        "outputId": "ce8cd799-a06f-41e9-b9dd-d147dc3014a5",
        "colab": {}
      },
      "source": [
        "# power operator x raised to the power n\n",
        "x = 5\n",
        "n = 4\n",
        "print(x ** n)"
      ],
      "execution_count": 0,
      "outputs": [
        {
          "output_type": "stream",
          "text": [
            "625\n"
          ],
          "name": "stdout"
        }
      ]
    },
    {
      "cell_type": "code",
      "metadata": {
        "id": "WVTqWpPvqzXt",
        "colab_type": "code",
        "outputId": "61c2242e-6ae1-45c7-d99c-8a55d21e3b22",
        "colab": {}
      },
      "source": [
        "# Let's run this on strings\n",
        "a = \"lmn\"\n",
        "b = \"pqr\"\n",
        "a + b"
      ],
      "execution_count": 0,
      "outputs": [
        {
          "output_type": "execute_result",
          "data": {
            "text/plain": [
              "'lmnpqr'"
            ]
          },
          "metadata": {
            "tags": []
          },
          "execution_count": 54
        }
      ]
    },
    {
      "cell_type": "code",
      "metadata": {
        "id": "f5Vc2nCxqzXx",
        "colab_type": "code",
        "outputId": "f400a26c-4d7f-4d11-aac6-d46e449c3366",
        "colab": {}
      },
      "source": [
        "a * 10"
      ],
      "execution_count": 0,
      "outputs": [
        {
          "output_type": "execute_result",
          "data": {
            "text/plain": [
              "'lmnlmnlmnlmnlmnlmnlmnlmnlmnlmn'"
            ]
          },
          "metadata": {
            "tags": []
          },
          "execution_count": 55
        }
      ]
    },
    {
      "cell_type": "code",
      "metadata": {
        "id": "Lg1plZhrqzX0",
        "colab_type": "code",
        "colab": {}
      },
      "source": [
        ""
      ],
      "execution_count": 0,
      "outputs": []
    },
    {
      "cell_type": "code",
      "metadata": {
        "id": "lZLRJQSxqzX3",
        "colab_type": "code",
        "colab": {}
      },
      "source": [
        "# lists"
      ],
      "execution_count": 0,
      "outputs": []
    },
    {
      "cell_type": "code",
      "metadata": {
        "id": "QXutpUmjqzX6",
        "colab_type": "code",
        "outputId": "bc1931a2-937a-4c2f-e55c-22236d8306cb",
        "colab": {}
      },
      "source": [
        "alist = [3,5,8]\n",
        "print(alist)"
      ],
      "execution_count": 0,
      "outputs": [
        {
          "output_type": "stream",
          "text": [
            "[3, 5, 8]\n"
          ],
          "name": "stdout"
        }
      ]
    },
    {
      "cell_type": "code",
      "metadata": {
        "id": "1-oCrbmrqzYB",
        "colab_type": "code",
        "colab": {}
      },
      "source": [
        "alist.append(4)\n",
        "alist.append(10)\n",
        "alist.append(9)"
      ],
      "execution_count": 0,
      "outputs": []
    },
    {
      "cell_type": "code",
      "metadata": {
        "id": "Vet_axhpqzYG",
        "colab_type": "code",
        "outputId": "a2f8cffc-1aee-4db5-92c2-e6ab36ffccba",
        "colab": {}
      },
      "source": [
        "alist"
      ],
      "execution_count": 0,
      "outputs": [
        {
          "output_type": "execute_result",
          "data": {
            "text/plain": [
              "[3, 5, 8, 4, 10, 9]"
            ]
          },
          "metadata": {
            "tags": []
          },
          "execution_count": 58
        }
      ]
    },
    {
      "cell_type": "code",
      "metadata": {
        "id": "DbWE_NMpqzYM",
        "colab_type": "code",
        "outputId": "76f4301c-b7d8-4817-d2f0-79a1c47b8246",
        "colab": {}
      },
      "source": [
        "alist[3]"
      ],
      "execution_count": 0,
      "outputs": [
        {
          "output_type": "execute_result",
          "data": {
            "text/plain": [
              "4"
            ]
          },
          "metadata": {
            "tags": []
          },
          "execution_count": 59
        }
      ]
    },
    {
      "cell_type": "code",
      "metadata": {
        "id": "M99-3FBgqzYS",
        "colab_type": "code",
        "outputId": "f196e8b1-cd49-4c6c-cd5e-a9839d7b608a",
        "colab": {}
      },
      "source": [
        "# store any data type in the list\n",
        "alist.append(\"tom\")\n",
        "alist"
      ],
      "execution_count": 0,
      "outputs": [
        {
          "output_type": "execute_result",
          "data": {
            "text/plain": [
              "[3, 5, 8, 4, 10, 9, 'tom']"
            ]
          },
          "metadata": {
            "tags": []
          },
          "execution_count": 60
        }
      ]
    },
    {
      "cell_type": "code",
      "metadata": {
        "id": "z2dyKH6jqzYV",
        "colab_type": "code",
        "outputId": "5bfce244-6048-45a7-fad3-791d8f68fce4",
        "colab": {}
      },
      "source": [
        "alist.pop()\n",
        "alist"
      ],
      "execution_count": 0,
      "outputs": [
        {
          "output_type": "execute_result",
          "data": {
            "text/plain": [
              "[3, 5, 8, 4, 10]"
            ]
          },
          "metadata": {
            "tags": []
          },
          "execution_count": 63
        }
      ]
    },
    {
      "cell_type": "code",
      "metadata": {
        "id": "2N8L1lDJqzYZ",
        "colab_type": "code",
        "outputId": "1b751336-4f4d-446a-c296-365f6bf5f742",
        "colab": {}
      },
      "source": [
        "alist[2:5:1]"
      ],
      "execution_count": 0,
      "outputs": [
        {
          "output_type": "execute_result",
          "data": {
            "text/plain": [
              "[8, 4, 10]"
            ]
          },
          "metadata": {
            "tags": []
          },
          "execution_count": 66
        }
      ]
    },
    {
      "cell_type": "code",
      "metadata": {
        "id": "CoIhFB3AqzYf",
        "colab_type": "code",
        "outputId": "7c4a6200-bcb1-4640-8bce-86e0fc50fdbc",
        "colab": {}
      },
      "source": [
        "newList = [1,2]\n",
        "alist.append(newList)\n",
        "alist"
      ],
      "execution_count": 0,
      "outputs": [
        {
          "output_type": "execute_result",
          "data": {
            "text/plain": [
              "[3, 5, 8, 4, 10, [1, 2]]"
            ]
          },
          "metadata": {
            "tags": []
          },
          "execution_count": 67
        }
      ]
    },
    {
      "cell_type": "code",
      "metadata": {
        "id": "6Ly4itGIqzYi",
        "colab_type": "code",
        "outputId": "d8396e37-adf6-42c7-993c-943ce8e095be",
        "colab": {}
      },
      "source": [
        "alist[5]"
      ],
      "execution_count": 0,
      "outputs": [
        {
          "output_type": "execute_result",
          "data": {
            "text/plain": [
              "[1, 2]"
            ]
          },
          "metadata": {
            "tags": []
          },
          "execution_count": 68
        }
      ]
    },
    {
      "cell_type": "code",
      "metadata": {
        "id": "XMi2Myw8qzYl",
        "colab_type": "code",
        "outputId": "e1346b31-8a0c-4b82-eee8-cf5b4c365cc2",
        "colab": {}
      },
      "source": [
        "alist[5][0]"
      ],
      "execution_count": 0,
      "outputs": [
        {
          "output_type": "execute_result",
          "data": {
            "text/plain": [
              "1"
            ]
          },
          "metadata": {
            "tags": []
          },
          "execution_count": 69
        }
      ]
    },
    {
      "cell_type": "code",
      "metadata": {
        "id": "f5VlLdhGqzYo",
        "colab_type": "code",
        "colab": {}
      },
      "source": [
        "# splitting string\n",
        "myStr2 = \"This is a new string\"\n",
        "print(myStr2.split(\" \"))"
      ],
      "execution_count": 0,
      "outputs": []
    },
    {
      "cell_type": "code",
      "metadata": {
        "id": "aS29E3S5qzYt",
        "colab_type": "code",
        "outputId": "e4dff250-b64a-47a1-f4d7-205e95d4bf10",
        "colab": {}
      },
      "source": [
        "newList*2"
      ],
      "execution_count": 0,
      "outputs": [
        {
          "output_type": "execute_result",
          "data": {
            "text/plain": [
              "[1, 2, 1, 2]"
            ]
          },
          "metadata": {
            "tags": []
          },
          "execution_count": 71
        }
      ]
    },
    {
      "cell_type": "code",
      "metadata": {
        "id": "zoYw1Ny8qzYz",
        "colab_type": "code",
        "outputId": "fc297ed4-0d98-466a-b068-0d9b69408841",
        "colab": {}
      },
      "source": [
        "newList + newList"
      ],
      "execution_count": 0,
      "outputs": [
        {
          "output_type": "execute_result",
          "data": {
            "text/plain": [
              "[1, 2, 1, 2]"
            ]
          },
          "metadata": {
            "tags": []
          },
          "execution_count": 73
        }
      ]
    },
    {
      "cell_type": "code",
      "metadata": {
        "id": "MoI-NSYZqzY4",
        "colab_type": "code",
        "outputId": "b90f86f2-0ddb-4407-e7dd-951d15682fb7",
        "colab": {}
      },
      "source": [
        "newList"
      ],
      "execution_count": 0,
      "outputs": [
        {
          "output_type": "execute_result",
          "data": {
            "text/plain": [
              "[1, 2]"
            ]
          },
          "metadata": {
            "tags": []
          },
          "execution_count": 74
        }
      ]
    },
    {
      "cell_type": "code",
      "metadata": {
        "id": "cJmYuYD7qzY8",
        "colab_type": "code",
        "colab": {}
      },
      "source": [
        ""
      ],
      "execution_count": 0,
      "outputs": []
    }
  ]
}