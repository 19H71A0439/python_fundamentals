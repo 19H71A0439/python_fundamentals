{
 "cells": [
  {
   "cell_type": "markdown",
   "metadata": {},
   "source": [
    "# Python fundamentals Exercises (Conditionals, Loops)\n",
    "\n",
    "The notebook intends to help you practice these concepts. Attempt honestly.\n",
    "\n",
    "Instructions/Suggestions:\n",
    "1. Don't forget to copy the expression from the Question to code cell!\n",
    "2. You can use the python documentation anytime you want to learn about a new function or attribute."
   ]
  },
  {
   "cell_type": "code",
   "execution_count": null,
   "metadata": {},
   "outputs": [],
   "source": []
  }
 ],
 "metadata": {
  "kernelspec": {
   "display_name": "Python 3",
   "language": "python",
   "name": "python3"
  },
  "language_info": {
   "codemirror_mode": {
    "name": "ipython",
    "version": 3
   },
   "file_extension": ".py",
   "mimetype": "text/x-python",
   "name": "python",
   "nbconvert_exporter": "python",
   "pygments_lexer": "ipython3",
   "version": "3.7.4"
  }
 },
 "nbformat": 4,
 "nbformat_minor": 2
}
